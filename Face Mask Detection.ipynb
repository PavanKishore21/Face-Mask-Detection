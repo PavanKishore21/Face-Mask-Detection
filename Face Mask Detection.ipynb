{
 "cells": [
  {
   "cell_type": "code",
   "execution_count": 1,
   "metadata": {},
   "outputs": [],
   "source": [
    "import pandas as pd\n",
    "import numpy as np\n",
    "import matplotlib.pyplot as plt\n",
    "\n",
    "import tensorflow \n",
    "from tensorflow import keras\n",
    "from keras import models,layers,optimizers"
   ]
  },
  {
   "cell_type": "code",
   "execution_count": 2,
   "metadata": {},
   "outputs": [],
   "source": [
    "train_dir = r'D:\\Datasets\\Face Mask Detection\\train'\n",
    "validation_dir = r'D:\\Datasets\\Face Mask Detection\\valid'"
   ]
  },
  {
   "cell_type": "code",
   "execution_count": 3,
   "metadata": {},
   "outputs": [],
   "source": [
    "from tensorflow.keras.preprocessing.image import ImageDataGenerator"
   ]
  },
  {
   "cell_type": "code",
   "execution_count": 4,
   "metadata": {},
   "outputs": [],
   "source": [
    "train_datagen = ImageDataGenerator(\n",
    "    rescale = 1./255,\n",
    "    rotation_range = 40,\n",
    "    width_shift_range = 0.2,\n",
    "    height_shift_range = 0.2,\n",
    "    shear_range = 0.2,\n",
    "    horizontal_flip = True,\n",
    "        )\n",
    "validation_datagen = ImageDataGenerator(rescale = 1./255)"
   ]
  },
  {
   "cell_type": "code",
   "execution_count": 5,
   "metadata": {},
   "outputs": [
    {
     "name": "stdout",
     "output_type": "stream",
     "text": [
      "Found 16000 images belonging to 2 classes.\n",
      "Found 2000 images belonging to 2 classes.\n"
     ]
    }
   ],
   "source": [
    "train_generator = train_datagen.flow_from_directory(\n",
    "        train_dir,\n",
    "        target_size = (256,256),\n",
    "        batch_size = 32,\n",
    "        class_mode = 'binary'\n",
    ")\n",
    "\n",
    "validation_generator = validation_datagen.flow_from_directory(\n",
    "        validation_dir,\n",
    "        batch_size = 32,\n",
    "        target_size = (256,256),\n",
    "        class_mode = 'binary'\n",
    ")"
   ]
  },
  {
   "cell_type": "code",
   "execution_count": 14,
   "metadata": {},
   "outputs": [],
   "source": [
    "model = models.Sequential()\n",
    "    \n",
    "model.add(layers.Conv2D(32, (3,3), activation = 'relu', input_shape = (256,256,3)))\n",
    "model.add(layers.MaxPooling2D((2,2)))\n",
    "model.add(layers.Conv2D(64, (3,3), activation = 'relu'))\n",
    "model.add(layers.MaxPooling2D((2,2)))\n",
    "\n",
    "    \n",
    "    \n",
    "model.add(layers.Flatten())\n",
    "model.add(layers.Dense(128, activation = 'relu'))\n",
    "model.add(layers.Dense(2, activation = 'softmax'))\n"
   ]
  },
  {
   "cell_type": "code",
   "execution_count": 15,
   "metadata": {},
   "outputs": [
    {
     "name": "stdout",
     "output_type": "stream",
     "text": [
      "Model: \"sequential_2\"\n",
      "_________________________________________________________________\n",
      "Layer (type)                 Output Shape              Param #   \n",
      "=================================================================\n",
      "conv2d_6 (Conv2D)            (None, 254, 254, 32)      896       \n",
      "_________________________________________________________________\n",
      "max_pooling2d_6 (MaxPooling2 (None, 127, 127, 32)      0         \n",
      "_________________________________________________________________\n",
      "conv2d_7 (Conv2D)            (None, 125, 125, 64)      18496     \n",
      "_________________________________________________________________\n",
      "max_pooling2d_7 (MaxPooling2 (None, 62, 62, 64)        0         \n",
      "_________________________________________________________________\n",
      "flatten_2 (Flatten)          (None, 246016)            0         \n",
      "_________________________________________________________________\n",
      "dense_4 (Dense)              (None, 128)               31490176  \n",
      "_________________________________________________________________\n",
      "dense_5 (Dense)              (None, 2)                 258       \n",
      "=================================================================\n",
      "Total params: 31,509,826\n",
      "Trainable params: 31,509,826\n",
      "Non-trainable params: 0\n",
      "_________________________________________________________________\n"
     ]
    }
   ],
   "source": [
    "model.summary()"
   ]
  },
  {
   "cell_type": "code",
   "execution_count": 16,
   "metadata": {},
   "outputs": [],
   "source": [
    "model.compile(loss = 'sparse_categorical_crossentropy',optimizer = 'adam', metrics = ['acc'])"
   ]
  },
  {
   "cell_type": "code",
   "execution_count": 17,
   "metadata": {
    "scrolled": true
   },
   "outputs": [
    {
     "name": "stdout",
     "output_type": "stream",
     "text": [
      "Epoch 1/10\n",
      "800/800 [==============================] - 2300s 3s/step - loss: 0.3350 - acc: 0.9046 - val_loss: 0.0037 - val_acc: 0.9994\n",
      "Epoch 2/10\n",
      "800/800 [==============================] - 2501s 3s/step - loss: 0.0350 - acc: 0.9887 - val_loss: 3.0697e-04 - val_acc: 1.0000\n",
      "Epoch 3/10\n",
      "800/800 [==============================] - 2206s 3s/step - loss: 0.0159 - acc: 0.9950 - val_loss: 0.0023 - val_acc: 0.9994\n",
      "Epoch 4/10\n",
      "800/800 [==============================] - 3459s 4s/step - loss: 0.0110 - acc: 0.9970 - val_loss: 0.0204 - val_acc: 0.9962\n",
      "Epoch 5/10\n",
      "800/800 [==============================] - 2227s 3s/step - loss: 0.0062 - acc: 0.9981 - val_loss: 0.0067 - val_acc: 0.9981\n",
      "Epoch 6/10\n",
      "800/800 [==============================] - 2966s 4s/step - loss: 0.0961 - acc: 0.9751 - val_loss: 5.9501e-05 - val_acc: 1.0000\n",
      "Epoch 7/10\n",
      "800/800 [==============================] - 3214s 4s/step - loss: 0.0093 - acc: 0.9971 - val_loss: 4.2953e-05 - val_acc: 1.0000\n",
      "Epoch 8/10\n",
      "800/800 [==============================] - 2591s 3s/step - loss: 0.0061 - acc: 0.9982 - val_loss: 1.4470e-05 - val_acc: 1.0000\n",
      "Epoch 9/10\n",
      "800/800 [==============================] - 2473s 3s/step - loss: 0.0132 - acc: 0.9968 - val_loss: 2.9555e-04 - val_acc: 1.0000\n",
      "Epoch 10/10\n",
      "800/800 [==============================] - 2640s 3s/step - loss: 0.0076 - acc: 0.9973 - val_loss: 7.5631e-04 - val_acc: 1.0000\n"
     ]
    }
   ],
   "source": [
    "history = model.fit_generator(\n",
    "    train_generator,\n",
    "    steps_per_epoch = 800,\n",
    "    epochs = 10,\n",
    "    validation_data = validation_generator,\n",
    "    validation_steps = 50\n",
    ")"
   ]
  },
  {
   "cell_type": "code",
   "execution_count": 18,
   "metadata": {},
   "outputs": [
    {
     "data": {
      "text/plain": [
       "<function matplotlib.pyplot.show(close=None, block=None)>"
      ]
     },
     "execution_count": 18,
     "metadata": {},
     "output_type": "execute_result"
    },
    {
     "data": {
      "image/png": "[encoded data removed]",
      "text/plain": [
       "<Figure size 576x360 with 1 Axes>"
      ]
     },
     "metadata": {
      "needs_background": "light"
     },
     "output_type": "display_data"
    }
   ],
   "source": [
    "pd.DataFrame(history.history).plot(figsize=(8,5))\n",
    "plt.grid(True)\n",
    "plt.show"
   ]
  },
  {
   "cell_type": "code",
   "execution_count": 19,
   "metadata": {},
   "outputs": [],
   "source": [
    "model.save(\"Face Mask Detection.h5\")"
   ]
  },
  {
   "cell_type": "code",
   "execution_count": null,
   "metadata": {},
   "outputs": [],
   "source": []
  }
 ],
 "metadata": {
  "kernelspec": {
   "display_name": "Python 3",
   "language": "python",
   "name": "python3"
  },
  "language_info": {
   "codemirror_mode": {
    "name": "ipython",
    "version": 3
   },
   "file_extension": ".py",
   "mimetype": "text/x-python",
   "name": "python",
   "nbconvert_exporter": "python",
   "pygments_lexer": "ipython3",
   "version": "3.8.5"
  }
 },
 "nbformat": 4,
 "nbformat_minor": 4
}
